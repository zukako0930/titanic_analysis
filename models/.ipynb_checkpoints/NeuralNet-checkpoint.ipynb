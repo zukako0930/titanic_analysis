{
 "cells": [
  {
   "cell_type": "markdown",
   "metadata": {},
   "source": [
    "### この.ipynbの目的\n",
    "chainerでのネットワーク実装に慣れる"
   ]
  },
  {
   "cell_type": "code",
   "execution_count": 2,
   "metadata": {
    "collapsed": true
   },
   "outputs": [],
   "source": [
    "import numpy as np\n",
    "import pandas as pd\n",
    "import matplotlib.pyplot as plt\n",
    "%matplotlib inline"
   ]
  },
  {
   "cell_type": "code",
   "execution_count": 3,
   "metadata": {
    "collapsed": true
   },
   "outputs": [],
   "source": [
    "import chainer\n",
    "import chainer.functions as F\n",
    "import chainer.links as L\n",
    "from chainer import serializers\n",
    "from chainer import computational_graph"
   ]
  },
  {
   "cell_type": "code",
   "execution_count": 5,
   "metadata": {},
   "outputs": [
    {
     "data": {
      "text/html": [
       "<div>\n",
       "<style>\n",
       "    .dataframe thead tr:only-child th {\n",
       "        text-align: right;\n",
       "    }\n",
       "\n",
       "    .dataframe thead th {\n",
       "        text-align: left;\n",
       "    }\n",
       "\n",
       "    .dataframe tbody tr th {\n",
       "        vertical-align: top;\n",
       "    }\n",
       "</style>\n",
       "<table border=\"1\" class=\"dataframe\">\n",
       "  <thead>\n",
       "    <tr style=\"text-align: right;\">\n",
       "      <th></th>\n",
       "      <th>PassengerId</th>\n",
       "      <th>Survived</th>\n",
       "      <th>Pclass</th>\n",
       "      <th>Name</th>\n",
       "      <th>Sex</th>\n",
       "      <th>Age</th>\n",
       "      <th>SibSp</th>\n",
       "      <th>Parch</th>\n",
       "      <th>Ticket</th>\n",
       "      <th>Fare</th>\n",
       "      <th>Cabin</th>\n",
       "      <th>Embarked</th>\n",
       "      <th>C</th>\n",
       "      <th>Q</th>\n",
       "      <th>S</th>\n",
       "      <th>havePC</th>\n",
       "      <th>haveP</th>\n",
       "      <th>haveC</th>\n",
       "    </tr>\n",
       "  </thead>\n",
       "  <tbody>\n",
       "    <tr>\n",
       "      <th>0</th>\n",
       "      <td>1</td>\n",
       "      <td>0</td>\n",
       "      <td>3</td>\n",
       "      <td>Braund, Mr. Owen Harris</td>\n",
       "      <td>0</td>\n",
       "      <td>22.0</td>\n",
       "      <td>1</td>\n",
       "      <td>0</td>\n",
       "      <td>A/5 21171</td>\n",
       "      <td>7.2500</td>\n",
       "      <td>NaN</td>\n",
       "      <td>S</td>\n",
       "      <td>0</td>\n",
       "      <td>0</td>\n",
       "      <td>1</td>\n",
       "      <td>0</td>\n",
       "      <td>0.0</td>\n",
       "      <td>0.0</td>\n",
       "    </tr>\n",
       "    <tr>\n",
       "      <th>1</th>\n",
       "      <td>2</td>\n",
       "      <td>1</td>\n",
       "      <td>1</td>\n",
       "      <td>Cumings, Mrs. John Bradley (Florence Briggs Th...</td>\n",
       "      <td>1</td>\n",
       "      <td>38.0</td>\n",
       "      <td>1</td>\n",
       "      <td>0</td>\n",
       "      <td>PC 17599</td>\n",
       "      <td>71.2833</td>\n",
       "      <td>C85</td>\n",
       "      <td>C</td>\n",
       "      <td>1</td>\n",
       "      <td>0</td>\n",
       "      <td>0</td>\n",
       "      <td>0</td>\n",
       "      <td>0.0</td>\n",
       "      <td>0.0</td>\n",
       "    </tr>\n",
       "    <tr>\n",
       "      <th>2</th>\n",
       "      <td>3</td>\n",
       "      <td>1</td>\n",
       "      <td>3</td>\n",
       "      <td>Heikkinen, Miss. Laina</td>\n",
       "      <td>1</td>\n",
       "      <td>26.0</td>\n",
       "      <td>0</td>\n",
       "      <td>0</td>\n",
       "      <td>STON/O2. 3101282</td>\n",
       "      <td>7.9250</td>\n",
       "      <td>NaN</td>\n",
       "      <td>S</td>\n",
       "      <td>0</td>\n",
       "      <td>0</td>\n",
       "      <td>1</td>\n",
       "      <td>0</td>\n",
       "      <td>0.0</td>\n",
       "      <td>0.0</td>\n",
       "    </tr>\n",
       "    <tr>\n",
       "      <th>3</th>\n",
       "      <td>4</td>\n",
       "      <td>1</td>\n",
       "      <td>1</td>\n",
       "      <td>Futrelle, Mrs. Jacques Heath (Lily May Peel)</td>\n",
       "      <td>1</td>\n",
       "      <td>35.0</td>\n",
       "      <td>1</td>\n",
       "      <td>0</td>\n",
       "      <td>113803</td>\n",
       "      <td>53.1000</td>\n",
       "      <td>C123</td>\n",
       "      <td>S</td>\n",
       "      <td>0</td>\n",
       "      <td>0</td>\n",
       "      <td>1</td>\n",
       "      <td>0</td>\n",
       "      <td>0.0</td>\n",
       "      <td>0.0</td>\n",
       "    </tr>\n",
       "    <tr>\n",
       "      <th>4</th>\n",
       "      <td>5</td>\n",
       "      <td>0</td>\n",
       "      <td>3</td>\n",
       "      <td>Allen, Mr. William Henry</td>\n",
       "      <td>0</td>\n",
       "      <td>35.0</td>\n",
       "      <td>0</td>\n",
       "      <td>0</td>\n",
       "      <td>373450</td>\n",
       "      <td>8.0500</td>\n",
       "      <td>NaN</td>\n",
       "      <td>S</td>\n",
       "      <td>0</td>\n",
       "      <td>0</td>\n",
       "      <td>1</td>\n",
       "      <td>0</td>\n",
       "      <td>0.0</td>\n",
       "      <td>0.0</td>\n",
       "    </tr>\n",
       "  </tbody>\n",
       "</table>\n",
       "</div>"
      ],
      "text/plain": [
       "   PassengerId  Survived  Pclass  \\\n",
       "0            1         0       3   \n",
       "1            2         1       1   \n",
       "2            3         1       3   \n",
       "3            4         1       1   \n",
       "4            5         0       3   \n",
       "\n",
       "                                                Name  Sex   Age  SibSp  Parch  \\\n",
       "0                            Braund, Mr. Owen Harris    0  22.0      1      0   \n",
       "1  Cumings, Mrs. John Bradley (Florence Briggs Th...    1  38.0      1      0   \n",
       "2                             Heikkinen, Miss. Laina    1  26.0      0      0   \n",
       "3       Futrelle, Mrs. Jacques Heath (Lily May Peel)    1  35.0      1      0   \n",
       "4                           Allen, Mr. William Henry    0  35.0      0      0   \n",
       "\n",
       "             Ticket     Fare Cabin Embarked  C  Q  S  havePC  haveP  haveC  \n",
       "0         A/5 21171   7.2500   NaN        S  0  0  1       0    0.0    0.0  \n",
       "1          PC 17599  71.2833   C85        C  1  0  0       0    0.0    0.0  \n",
       "2  STON/O2. 3101282   7.9250   NaN        S  0  0  1       0    0.0    0.0  \n",
       "3            113803  53.1000  C123        S  0  0  1       0    0.0    0.0  \n",
       "4            373450   8.0500   NaN        S  0  0  1       0    0.0    0.0  "
      ]
     },
     "execution_count": 5,
     "metadata": {},
     "output_type": "execute_result"
    }
   ],
   "source": [
    "df = pd.read_csv('../data/withhavePC.csv')\n",
    "df.head()"
   ]
  },
  {
   "cell_type": "code",
   "execution_count": 6,
   "metadata": {
    "collapsed": true
   },
   "outputs": [],
   "source": [
    "X = df.loc[:,['Pclass','Sex','Age','SibSp','Parch','Fare','C','Q','S','havePC','haveP','haveC']].values"
   ]
  },
  {
   "cell_type": "code",
   "execution_count": 55,
   "metadata": {
    "collapsed": true
   },
   "outputs": [],
   "source": [
    "y = df.loc[:,['Survived']].values.reshape(-1)"
   ]
  },
  {
   "cell_type": "code",
   "execution_count": 56,
   "metadata": {},
   "outputs": [
    {
     "data": {
      "text/plain": [
       "(891, 12)"
      ]
     },
     "execution_count": 56,
     "metadata": {},
     "output_type": "execute_result"
    }
   ],
   "source": [
    "X.shape"
   ]
  },
  {
   "cell_type": "code",
   "execution_count": 57,
   "metadata": {},
   "outputs": [
    {
     "data": {
      "text/plain": [
       "(891,)"
      ]
     },
     "execution_count": 57,
     "metadata": {},
     "output_type": "execute_result"
    }
   ],
   "source": [
    "y.shape"
   ]
  },
  {
   "cell_type": "code",
   "execution_count": 58,
   "metadata": {
    "collapsed": true
   },
   "outputs": [],
   "source": [
    "# 数値をChainerが扱える型に変換\n",
    "X = X.astype(np.float32)\n",
    "y = y.astype(np.int32)"
   ]
  },
  {
   "cell_type": "code",
   "execution_count": 59,
   "metadata": {
    "collapsed": true
   },
   "outputs": [],
   "source": [
    "# NNはパラメータが多いのでクロスバリデーションではなくホールドアウト法で行う\n",
    "from sklearn.model_selection import train_test_split\n",
    "X_train,X_test,y_train,y_test=train_test_split(X,y,test_size=0.3,random_state=0)"
   ]
  },
  {
   "cell_type": "code",
   "execution_count": 60,
   "metadata": {
    "collapsed": true
   },
   "outputs": [],
   "source": [
    "# 数値をChainerが扱える型に変換\n",
    "X = X.astype(np.float32)\n",
    "y = y.astype(np.int32)"
   ]
  },
  {
   "cell_type": "code",
   "execution_count": 61,
   "metadata": {
    "collapsed": true
   },
   "outputs": [],
   "source": [
    "# ネットワークの定義\n",
    "# chainer.Chainクラスを継承\n",
    "class MLP(chainer.Chain):\n",
    "    def __init__(self):\n",
    "        super(MLP,self).__init__()\n",
    "        with self.init_scope():\n",
    "            self.l1=L.Linear(12, 50)  \n",
    "            self.l2=L.Linear(None, 100)\n",
    "            self.l3=L.Linear(None, 50)\n",
    "            self.l4=L.Linear(None, 2)   \n",
    "    def __call__(self,x):\n",
    "        h1 = F.relu(self.l1(x))\n",
    "        h2 = F.relu(self.l2(h1))\n",
    "        h3 = F.relu(self.l3(h2))\n",
    "        return self.l4(h3) #これで返ってくるのは確率？"
   ]
  },
  {
   "cell_type": "code",
   "execution_count": 62,
   "metadata": {
    "collapsed": true
   },
   "outputs": [],
   "source": [
    "model = L.Classifier(MLP())"
   ]
  },
  {
   "cell_type": "code",
   "execution_count": 63,
   "metadata": {},
   "outputs": [],
   "source": [
    "optimizer = chainer.optimizers.Adam()\n",
    "optimizer.setup(model)"
   ]
  },
  {
   "cell_type": "code",
   "execution_count": 77,
   "metadata": {
    "collapsed": true
   },
   "outputs": [],
   "source": [
    "batch_size = 100\n",
    "n_epoch = 100"
   ]
  },
  {
   "cell_type": "code",
   "execution_count": 78,
   "metadata": {
    "collapsed": true
   },
   "outputs": [],
   "source": [
    "from chainer.datasets import tuple_dataset\n",
    "from chainer import iterators, training\n",
    "from chainer.training import extensions"
   ]
  },
  {
   "cell_type": "code",
   "execution_count": 79,
   "metadata": {
    "collapsed": true
   },
   "outputs": [],
   "source": [
    "# chainer用の型に変換\n",
    "train = tuple_dataset.TupleDataset(X_train,y_train)"
   ]
  },
  {
   "cell_type": "code",
   "execution_count": 80,
   "metadata": {
    "collapsed": true
   },
   "outputs": [],
   "source": [
    "# train_iter\n",
    "# trainデータとbatch_sizeを渡し、毎iterごとのルールを決める。\n",
    "# shuffle = Trueでイテレーションごとにbatch_size分のデータをランダムに抽出することを意味する\n",
    "# ｢trainデータの中から｣､｢bacth_sizeごとに｣､｢ランダムに｣データをサンプリングするという機能を与える\n",
    "train_iter = iterators.SerialIterator(train,batch_size=batch_size,shuffle=True)"
   ]
  },
  {
   "cell_type": "markdown",
   "metadata": {},
   "source": [
    "### uptdatorには､train_iterとoptimizerを引き渡す\n",
    "-  これによって､Updaterに**｢どのデータを参照して｣､｢どのようなモデルと最適化手法で｣**パラメータを更新するのかを指示する\n",
    "- optimizerにはモデルの情報がsetupされているので､Updaterはモデルの構造も認識する\n",
    "- device は　GPU使うかどうか "
   ]
  },
  {
   "cell_type": "code",
   "execution_count": 81,
   "metadata": {
    "collapsed": true
   },
   "outputs": [],
   "source": [
    "updater = training.StandardUpdater(train_iter,optimizer=optimizer,device=-1)"
   ]
  },
  {
   "cell_type": "markdown",
   "metadata": {},
   "source": [
    "updatorの後にはtrainerを定義する。<br>\n",
    "trainerの引数にupdaterを渡し、学習回数を表すn_epoch、さらに出力先のoutを指定する"
   ]
  },
  {
   "cell_type": "markdown",
   "metadata": {},
   "source": [
    "これによりtrainerは**｢どのような更新規則の学習を｣､｢何回繰り返して｣､｢結果をどこに報告すればよいのか｣を認識する**"
   ]
  },
  {
   "cell_type": "code",
   "execution_count": 82,
   "metadata": {},
   "outputs": [],
   "source": [
    "trainer = training.Trainer(updater, (n_epoch,'epoch'), out='result')"
   ]
  },
  {
   "cell_type": "markdown",
   "metadata": {},
   "source": [
    "### extensionsを利用することでtrainerの機能を拡張できる。\n",
    "以下のようなクラスがある。\n",
    "- Evaluatior : モデルにテスト精度を評価する機能を追加\n",
    "- LogReport\n",
    "- PrintReport\n",
    "- PlotReport\n",
    "- ProgressBar"
   ]
  },
  {
   "cell_type": "code",
   "execution_count": 83,
   "metadata": {
    "collapsed": true
   },
   "outputs": [],
   "source": [
    "# evaluatorのためのtestデータ作成\n",
    "test = tuple_dataset.TupleDataset(X_test,y_test)"
   ]
  },
  {
   "cell_type": "markdown",
   "metadata": {},
   "source": [
    "### test_iterの作成\n",
    "#### 毎エポックごとにtest精度を評価\n",
    "**shuffleとrepeatはFalseにする。**\n",
    "\n",
    "epochごとに同じ評価方法を適用するため､shuffle=Falseに設定する｡<br>\n",
    "さらに､新たにrepeat=Falseとします｡これを行わないと､trainerが繰り返しtestデータの評価は１エポック一回でいい。"
   ]
  },
  {
   "cell_type": "code",
   "execution_count": 84,
   "metadata": {
    "collapsed": true
   },
   "outputs": [],
   "source": [
    "test_iter = iterators.SerialIterator(test,batch_size=batch_size,shuffle=False,repeat=False)"
   ]
  },
  {
   "cell_type": "markdown",
   "metadata": {},
   "source": [
    "### trainerにテスト精度評価機能の追加\n",
    "生成したtest_iterをextensionsの中のEvaluatorに引き渡す｡<br>\n",
    "このとき､modelも同時に引き渡すことで**｢どのテストデータを利用して｣､｢どのモデルのtest精度を｣評価すればよいのかを指示する**ことが出来る｡<br>\n",
    "また､extensnionsによって機能を追加するときは､trainerのextendメソッドを利用する｡<br>"
   ]
  },
  {
   "cell_type": "code",
   "execution_count": 85,
   "metadata": {
    "collapsed": true
   },
   "outputs": [],
   "source": [
    "trainer.extend(extensions.Evaluator(test_iter,model))"
   ]
  },
  {
   "cell_type": "code",
   "execution_count": 86,
   "metadata": {
    "collapsed": true
   },
   "outputs": [],
   "source": [
    "# ログ出力用\n",
    "trainer.extend(extensions.LogReport())"
   ]
  },
  {
   "cell_type": "markdown",
   "metadata": {},
   "source": [
    "### PrintReport\n",
    "PrintReportはLogReportの内容をもとに学習中の状態を逐次出力する機能を追加します｡これにより､学習の進捗をリアルタイムで確認することがきでます｡出力して欲しい内容を文字列のリストとして与える必要があります｡今回出力させるものは以下の4つです｡\n",
    "\n",
    "- epoch : 今何epochめなのか\n",
    "- main/loss : 訓練誤差（softmax_cross_entropy誤差関数の出力）\n",
    "- main/accuracy : 訓練精度（正答率）\n",
    "- validation/main/loss : 検証誤差\n",
    "- validation/main/accuracy : 検証精度"
   ]
  },
  {
   "cell_type": "code",
   "execution_count": 87,
   "metadata": {
    "collapsed": true
   },
   "outputs": [],
   "source": [
    "trainer.extend(extensions.PrintReport(['epoch','main/loss','main/accuracy','validation/main/loss','validation/main/accuracy']))"
   ]
  },
  {
   "cell_type": "code",
   "execution_count": 88,
   "metadata": {
    "collapsed": true
   },
   "outputs": [],
   "source": [
    "# trainとtestの精度のグラフを出力\n",
    "trainer.extend(extensions.PlotReport(['main/accuracy', 'validation/main/accuracy'],\n",
    "                          'epoch', file_name='accuracy.png'))\n",
    "# trainとtestの損失関数のグラフを出力\n",
    "trainer.extend(extensions.PlotReport(['main/loss', 'validation/main/loss'],\n",
    "                          'epoch', file_name='loss.png'))"
   ]
  },
  {
   "cell_type": "code",
   "execution_count": 89,
   "metadata": {
    "scrolled": true
   },
   "outputs": [
    {
     "name": "stdout",
     "output_type": "stream",
     "text": [
      "epoch       main/loss   main/accuracy  validation/main/loss  validation/main/accuracy\n",
      "\u001b[J1           0.53486     0.727143       0.536332              0.768431                  \n",
      "\u001b[J2           0.52419     0.733333       0.544438              0.765098                  \n",
      "\u001b[J3           0.530749    0.726667       0.536266              0.763529                  \n",
      "\u001b[J4           0.51313     0.751667       0.535821              0.77                      \n",
      "\u001b[J5           0.513841    0.75           0.523506              0.766863                  \n",
      "\u001b[J6           0.508532    0.756667       0.532784              0.750196                  \n",
      "\u001b[J7           0.519505    0.74           0.521328              0.781765                  \n",
      "\u001b[J8           0.499902    0.751667       0.541272              0.750392                  \n",
      "\u001b[J9           0.507664    0.79           0.564538              0.731765                  \n",
      "\u001b[J10          0.518978    0.751667       0.507753              0.783333                  \n",
      "\u001b[J11          0.493116    0.77           0.515115              0.791569                  \n",
      "\u001b[J12          0.474807    0.798333       0.493752              0.803137                  \n",
      "\u001b[J13          0.476895    0.79           0.496291              0.809804                  \n",
      "\u001b[J14          0.494053    0.785714       0.535655              0.755098                  \n",
      "\u001b[J15          0.463393    0.81           0.490344              0.794902                  \n",
      "\u001b[J16          0.480843    0.793333       0.504534              0.794902                  \n",
      "\u001b[J17          0.475213    0.785          0.498439              0.8                       \n",
      "\u001b[J18          0.486088    0.791429       0.569206              0.745098                  \n",
      "\u001b[J19          0.446653    0.808333       0.4795                0.814902                  \n",
      "\u001b[J20          0.492568    0.783333       0.527573              0.766863                  \n",
      "\u001b[J21          0.472945    0.793333       0.494107              0.8                       \n",
      "\u001b[J22          0.455298    0.798571       0.490485              0.798039                  \n",
      "\u001b[J23          0.430003    0.821667       0.501943              0.766863                  \n",
      "\u001b[J24          0.47673     0.783333       0.533812              0.781569                  \n",
      "\u001b[J25          0.480768    0.801667       0.506887              0.801569                  \n",
      "\u001b[J26          0.464769    0.795          0.48546               0.793333                  \n",
      "\u001b[J27          0.439841    0.814286       0.475963              0.818039                  \n",
      "\u001b[J28          0.42581     0.83           0.471481              0.821373                  \n",
      "\u001b[J29          0.429792    0.821667       0.47405               0.814706                  \n",
      "\u001b[J30          0.422909    0.828333       0.474054              0.818039                  \n",
      "\u001b[J31          0.42912     0.822857       0.488555              0.769804                  \n",
      "\u001b[J32          0.433518    0.821667       0.47804               0.798235                  \n",
      "\u001b[J33          0.434034    0.823333       0.469886              0.811373                  \n",
      "\u001b[J34          0.424128    0.825          0.481624              0.811373                  \n",
      "\u001b[J35          0.434408    0.815714       0.503086              0.786667                  \n",
      "\u001b[J36          0.410501    0.818333       0.469215              0.796471                  \n",
      "\u001b[J37          0.445939    0.81           0.494608              0.78                      \n",
      "\u001b[J38          0.449374    0.818333       0.498117              0.798039                  \n",
      "\u001b[J39          0.422258    0.826667       0.497325              0.801569                  \n",
      "\u001b[J40          0.423922    0.824286       0.494255              0.798039                  \n",
      "\u001b[J41          0.419941    0.818333       0.498033              0.811569                  \n",
      "\u001b[J42          0.441015    0.823333       0.499727              0.794902                  \n",
      "\u001b[J43          0.420071    0.818333       0.470975              0.799804                  \n",
      "\u001b[J44          0.417921    0.818571       0.494101              0.794902                  \n",
      "\u001b[J45          0.408697    0.828333       0.47731               0.809804                  \n",
      "\u001b[J46          0.442064    0.81           0.482739              0.794706                  \n",
      "\u001b[J47          0.422873    0.823333       0.473141              0.814706                  \n",
      "\u001b[J48          0.449596    0.807143       0.491633              0.796471                  \n",
      "\u001b[J49          0.414695    0.83           0.476339              0.803137                  \n",
      "\u001b[J50          0.405711    0.83           0.486318              0.811373                  \n",
      "\u001b[J51          0.415031    0.823333       0.482577              0.801373                  \n",
      "\u001b[J52          0.419828    0.815          0.485825              0.814706                  \n",
      "\u001b[J53          0.411034    0.83           0.477517              0.804706                  \n",
      "\u001b[J54          0.428246    0.826667       0.478515              0.798039                  \n",
      "\u001b[J55          0.400076    0.84           0.468074              0.803137                  \n",
      "\u001b[J56          0.394889    0.835          0.47127               0.824706                  \n",
      "\u001b[J57          0.399141    0.841429       0.473625              0.801569                  \n",
      "\u001b[J58          0.395222    0.833333       0.477396              0.818039                  \n",
      "\u001b[J59          0.399304    0.83           0.480165              0.814706                  \n",
      "\u001b[J60          0.401051    0.826667       0.484147              0.808039                  \n",
      "\u001b[J61          0.390701    0.835714       0.501314              0.814706                  \n",
      "\u001b[J62          0.426412    0.815          0.488284              0.798039                  \n",
      "\u001b[J63          0.415178    0.831667       0.475154              0.809804                  \n",
      "\u001b[J64          0.400495    0.84           0.500747              0.789804                  \n",
      "\u001b[J65          0.418053    0.82           0.516345              0.804706                  \n",
      "\u001b[J66          0.421281    0.818571       0.482745              0.803137                  \n",
      "\u001b[J67          0.404454    0.828333       0.477464              0.814706                  \n",
      "\u001b[J68          0.382665    0.84           0.482887              0.811373                  \n",
      "\u001b[J69          0.400181    0.831667       0.477165              0.811569                  \n",
      "\u001b[J70          0.392036    0.832857       0.479846              0.809804                  \n",
      "\u001b[J71          0.397364    0.82           0.499813              0.794706                  \n",
      "\u001b[J72          0.394967    0.826667       0.490835              0.806471                  \n",
      "\u001b[J73          0.388405    0.836667       0.507218              0.785098                  \n",
      "\u001b[J74          0.410492    0.821429       0.492657              0.813137                  \n",
      "\u001b[J75          0.391137    0.825          0.543609              0.791569                  \n",
      "\u001b[J76          0.445354    0.808333       0.491377              0.79                      \n",
      "\u001b[J77          0.402013    0.823333       0.488956              0.806471                  \n",
      "\u001b[J78          0.38296     0.846667       0.494483              0.798039                  \n",
      "\u001b[J79          0.371764    0.844286       0.482126              0.804902                  \n",
      "\u001b[J80          0.398584    0.831667       0.477989              0.806471                  \n",
      "\u001b[J81          0.379646    0.835          0.484612              0.806471                  \n",
      "\u001b[J82          0.381726    0.833333       0.519579              0.799608                  \n",
      "\u001b[J83          0.402634    0.812857       0.498975              0.804706                  \n",
      "\u001b[J84          0.41309     0.838333       0.502689              0.798431                  \n",
      "\u001b[J85          0.40936     0.811667       0.510402              0.813137                  \n",
      "\u001b[J86          0.389566    0.836667       0.501999              0.813137                  \n",
      "\u001b[J87          0.400584    0.821429       0.545678              0.799804                  \n",
      "\u001b[J88          0.397168    0.82           0.494825              0.811373                  \n",
      "\u001b[J89          0.373682    0.86           0.500522              0.794902                  \n",
      "\u001b[J90          0.383109    0.838333       0.488521              0.803137                  \n"
     ]
    },
    {
     "name": "stdout",
     "output_type": "stream",
     "text": [
      "\u001b[J91          0.388715    0.826667       0.585231              0.773137                  \n",
      "\u001b[J92          0.396119    0.817143       0.494104              0.806471                  \n",
      "\u001b[J93          0.410733    0.826667       0.58567               0.770392                  \n",
      "\u001b[J94          0.507471    0.801667       0.639391              0.779804                  \n",
      "\u001b[J95          0.427981    0.805          0.533895              0.775294                  \n",
      "\u001b[J96          0.43381     0.815714       0.498222              0.813333                  \n",
      "\u001b[J97          0.38781     0.821667       0.485234              0.804902                  \n",
      "\u001b[J98          0.381612    0.843333       0.49385               0.811373                  \n",
      "\u001b[J99          0.397676    0.821667       0.519968              0.796471                  \n",
      "\u001b[J100         0.378714    0.846667       0.493571              0.801765                  \n"
     ]
    }
   ],
   "source": [
    "trainer.run()"
   ]
  },
  {
   "cell_type": "code",
   "execution_count": 90,
   "metadata": {},
   "outputs": [
    {
     "data": {
      "image/png": "[encoded data removed]",
      "text/plain": [
       "<matplotlib.figure.Figure at 0x12a7882e8>"
      ]
     },
     "metadata": {},
     "output_type": "display_data"
    },
    {
     "data": {
      "image/png": "[encoded data removed]",
      "text/plain": [
       "<matplotlib.figure.Figure at 0x12a8ab208>"
      ]
     },
     "metadata": {},
     "output_type": "display_data"
    }
   ],
   "source": [
    "from pylab import box\n",
    "def show_graph(src):\n",
    "    img =  plt.imread(src)\n",
    "    xpixels,ypixels = img.shape[0],img.shape[1]\n",
    "    dpi = 100\n",
    "    margin = 0.01\n",
    "    figsize = (1 + margin) * ypixels / dpi, (1 + margin) * xpixels / dpi\n",
    "\n",
    "    fig = plt.figure(figsize=figsize, dpi=dpi)\n",
    "    ax = fig.add_axes([margin, margin, 1 - 2*margin, 1 - 2*margin])\n",
    "    ax.tick_params(labelbottom=\"off\",bottom=\"off\")\n",
    "    ax.tick_params(labelleft=\"off\",left=\"off\")\n",
    "\n",
    "    ax.imshow(img, interpolation='none')\n",
    "    box(\"off\")\n",
    "    plt.show()\n",
    "# 誤差と精度のグラフを描画\n",
    "show_graph('result/loss.png')\n",
    "show_graph('result/accuracy.png')"
   ]
  },
  {
   "cell_type": "code",
   "execution_count": null,
   "metadata": {
    "collapsed": true
   },
   "outputs": [],
   "source": []
  }
 ],
 "metadata": {
  "kernelspec": {
   "display_name": "chainer2_py35",
   "language": "python",
   "name": "chainer2_py35"
  },
  "language_info": {
   "codemirror_mode": {
    "name": "ipython",
    "version": 3
   },
   "file_extension": ".py",
   "mimetype": "text/x-python",
   "name": "python",
   "nbconvert_exporter": "python",
   "pygments_lexer": "ipython3",
   "version": "3.5.4"
  }
 },
 "nbformat": 4,
 "nbformat_minor": 2
}
